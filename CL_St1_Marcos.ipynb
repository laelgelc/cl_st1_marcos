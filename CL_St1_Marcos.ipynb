{
 "cells": [
  {
   "cell_type": "markdown",
   "id": "810d9f10-ec19-4b09-8f90-e983e460b319",
   "metadata": {},
   "source": [
    "<center>\n",
    "<img src=\"https://laelgelcpublic.s3.sa-east-1.amazonaws.com/lael_50_years_narrow_white.png.no_years.400px_96dpi.png\" width=\"300\" alt=\"LAEL 50 years logo\">\n",
    "<h3>APPLIED LINGUISTICS GRADUATE PROGRAMME (LAEL)</h3>\n",
    "</center>\n",
    "<hr>"
   ]
  },
  {
   "cell_type": "markdown",
   "id": "888c2c96-2fc3-4a1a-995b-c388036a2a15",
   "metadata": {},
   "source": [
    "# Corpus Linguistics - Study 1 - Marcos"
   ]
  },
  {
   "cell_type": "markdown",
   "id": "74cee5ab-f310-4287-aa8b-2713f8223e65",
   "metadata": {},
   "source": [
    "This solution reads the text `debate.xml`, in `XML` format, into a `pandas` DataFrame allowing data wrangling and demonstrates how to export the DataFrame into `JSONL` and `TSV` formats for further processing."
   ]
  },
  {
   "cell_type": "markdown",
   "id": "f1acb96e-0335-41e2-a8cb-c9bb8e6c24c0",
   "metadata": {},
   "source": [
    "## Required Python packages"
   ]
  },
  {
   "cell_type": "markdown",
   "id": "d6867f1b-a978-4f5e-b094-2027b15d5e2d",
   "metadata": {},
   "source": [
    "- pandas"
   ]
  },
  {
   "cell_type": "markdown",
   "id": "0172bd82-68e6-4a31-9288-b7b02194ed5c",
   "metadata": {},
   "source": [
    "## Importing the required libraries"
   ]
  },
  {
   "cell_type": "code",
   "execution_count": 1,
   "id": "70753c13-fa12-4189-bdbd-5e60c97d011e",
   "metadata": {},
   "outputs": [],
   "source": [
    "import pandas as pd"
   ]
  },
  {
   "cell_type": "markdown",
   "id": "5c77ab0b-7a98-4c62-8306-0169c0f6a4d4",
   "metadata": {},
   "source": [
    "## Importing `debate.xml` into a DataFrame"
   ]
  },
  {
   "cell_type": "code",
   "execution_count": 2,
   "id": "15495ba6-090e-417c-8c32-58285a62ccb0",
   "metadata": {},
   "outputs": [],
   "source": [
    "df = pd.read_xml('debate.xml')"
   ]
  },
  {
   "cell_type": "markdown",
   "id": "2d2afa0f-ba20-4d46-8358-f59bca080107",
   "metadata": {},
   "source": [
    "### Checking data types"
   ]
  },
  {
   "cell_type": "code",
   "execution_count": 3,
   "id": "6238e02d-e673-47a9-ac6c-77eae0d97a2f",
   "metadata": {},
   "outputs": [
    {
     "data": {
      "text/plain": [
       "Title           object\n",
       "Debate          object\n",
       "Date            object\n",
       "Participants    object\n",
       "Moderators      object\n",
       "Speaker         object\n",
       "Text            object\n",
       "dtype: object"
      ]
     },
     "execution_count": 3,
     "metadata": {},
     "output_type": "execute_result"
    }
   ],
   "source": [
    "df.dtypes"
   ]
  },
  {
   "cell_type": "markdown",
   "id": "8b822dc9-712c-4a6a-9256-2a2a7eb36cde",
   "metadata": {},
   "source": [
    "### Converting the column `Date` to `datetime64[ns]` format"
   ]
  },
  {
   "cell_type": "code",
   "execution_count": 4,
   "id": "6e31d8bb-1060-4088-adcc-c939030621ba",
   "metadata": {},
   "outputs": [],
   "source": [
    "df['Date'] = pd.to_datetime(df['Date'])"
   ]
  },
  {
   "cell_type": "code",
   "execution_count": 5,
   "id": "a55969bf-a12e-4727-9b35-aff528c0cd9b",
   "metadata": {},
   "outputs": [
    {
     "data": {
      "text/plain": [
       "Title                   object\n",
       "Debate                  object\n",
       "Date            datetime64[ns]\n",
       "Participants            object\n",
       "Moderators              object\n",
       "Speaker                 object\n",
       "Text                    object\n",
       "dtype: object"
      ]
     },
     "execution_count": 5,
     "metadata": {},
     "output_type": "execute_result"
    }
   ],
   "source": [
    "df.dtypes"
   ]
  },
  {
   "cell_type": "markdown",
   "id": "5b2ec600-0d95-42ab-a186-42a3822f000d",
   "metadata": {},
   "source": [
    "### Displaying the DataFrame"
   ]
  },
  {
   "cell_type": "code",
   "execution_count": 6,
   "id": "14f9f988-517e-4d2b-a9e0-0404028a3342",
   "metadata": {},
   "outputs": [
    {
     "data": {
      "text/html": [
       "<div>\n",
       "<style scoped>\n",
       "    .dataframe tbody tr th:only-of-type {\n",
       "        vertical-align: middle;\n",
       "    }\n",
       "\n",
       "    .dataframe tbody tr th {\n",
       "        vertical-align: top;\n",
       "    }\n",
       "\n",
       "    .dataframe thead th {\n",
       "        text-align: right;\n",
       "    }\n",
       "</style>\n",
       "<table border=\"1\" class=\"dataframe\">\n",
       "  <thead>\n",
       "    <tr style=\"text-align: right;\">\n",
       "      <th></th>\n",
       "      <th>Title</th>\n",
       "      <th>Debate</th>\n",
       "      <th>Date</th>\n",
       "      <th>Participants</th>\n",
       "      <th>Moderators</th>\n",
       "      <th>Speaker</th>\n",
       "      <th>Text</th>\n",
       "    </tr>\n",
       "  </thead>\n",
       "  <tbody>\n",
       "    <tr>\n",
       "      <th>0</th>\n",
       "      <td>September 29, 2020 Debate Transcript</td>\n",
       "      <td>Presidential Debate at Case Western Reserve Un...</td>\n",
       "      <td>2020-09-29</td>\n",
       "      <td>Former Vice President Joe Biden (D) and Presid...</td>\n",
       "      <td>Chris Wallace (Fox News)</td>\n",
       "      <td>TRUMP</td>\n",
       "      <td>Thank you very much, Chris. I will tell you ve...</td>\n",
       "    </tr>\n",
       "    <tr>\n",
       "      <th>1</th>\n",
       "      <td>September 29, 2020 Debate Transcript</td>\n",
       "      <td>Presidential Debate at Case Western Reserve Un...</td>\n",
       "      <td>2020-09-29</td>\n",
       "      <td>Former Vice President Joe Biden (D) and Presid...</td>\n",
       "      <td>Chris Wallace (Fox News)</td>\n",
       "      <td>BIDEN</td>\n",
       "      <td>Well, first of all, thank you for doing this a...</td>\n",
       "    </tr>\n",
       "    <tr>\n",
       "      <th>2</th>\n",
       "      <td>September 29, 2020 Debate Transcript</td>\n",
       "      <td>Presidential Debate at Case Western Reserve Un...</td>\n",
       "      <td>2020-09-29</td>\n",
       "      <td>Former Vice President Joe Biden (D) and Presid...</td>\n",
       "      <td>Chris Wallace (Fox News)</td>\n",
       "      <td>BIDEN</td>\n",
       "      <td>The American people have a right to have a say...</td>\n",
       "    </tr>\n",
       "    <tr>\n",
       "      <th>3</th>\n",
       "      <td>September 29, 2020 Debate Transcript</td>\n",
       "      <td>Presidential Debate at Case Western Reserve Un...</td>\n",
       "      <td>2020-09-29</td>\n",
       "      <td>Former Vice President Joe Biden (D) and Presid...</td>\n",
       "      <td>Chris Wallace (Fox News)</td>\n",
       "      <td>TRUMP</td>\n",
       "      <td>There aren’t a hundred million people with pre...</td>\n",
       "    </tr>\n",
       "    <tr>\n",
       "      <th>4</th>\n",
       "      <td>September 29, 2020 Debate Transcript</td>\n",
       "      <td>Presidential Debate at Case Western Reserve Un...</td>\n",
       "      <td>2020-09-29</td>\n",
       "      <td>Former Vice President Joe Biden (D) and Presid...</td>\n",
       "      <td>Chris Wallace (Fox News)</td>\n",
       "      <td>TRUMP</td>\n",
       "      <td>During that period of time, during that period...</td>\n",
       "    </tr>\n",
       "    <tr>\n",
       "      <th>...</th>\n",
       "      <td>...</td>\n",
       "      <td>...</td>\n",
       "      <td>...</td>\n",
       "      <td>...</td>\n",
       "      <td>...</td>\n",
       "      <td>...</td>\n",
       "      <td>...</td>\n",
       "    </tr>\n",
       "    <tr>\n",
       "      <th>247</th>\n",
       "      <td>September 29, 2020 Debate Transcript</td>\n",
       "      <td>Presidential Debate at Case Western Reserve Un...</td>\n",
       "      <td>2020-09-29</td>\n",
       "      <td>Former Vice President Joe Biden (D) and Presid...</td>\n",
       "      <td>Chris Wallace (Fox News)</td>\n",
       "      <td>BIDEN</td>\n",
       "      <td>Yes. And here’s the deal. We count the ballots...</td>\n",
       "    </tr>\n",
       "    <tr>\n",
       "      <th>248</th>\n",
       "      <td>September 29, 2020 Debate Transcript</td>\n",
       "      <td>Presidential Debate at Case Western Reserve Un...</td>\n",
       "      <td>2020-09-29</td>\n",
       "      <td>Former Vice President Joe Biden (D) and Presid...</td>\n",
       "      <td>Chris Wallace (Fox News)</td>\n",
       "      <td>TRUMP</td>\n",
       "      <td>It’s already been established. Take a look at ...</td>\n",
       "    </tr>\n",
       "    <tr>\n",
       "      <th>249</th>\n",
       "      <td>September 29, 2020 Debate Transcript</td>\n",
       "      <td>Presidential Debate at Case Western Reserve Un...</td>\n",
       "      <td>2020-09-29</td>\n",
       "      <td>Former Vice President Joe Biden (D) and Presid...</td>\n",
       "      <td>Chris Wallace (Fox News)</td>\n",
       "      <td>TRUMP</td>\n",
       "      <td>Look at Carolyn Maloney’s race. They have no i...</td>\n",
       "    </tr>\n",
       "    <tr>\n",
       "      <th>250</th>\n",
       "      <td>September 29, 2020 Debate Transcript</td>\n",
       "      <td>Presidential Debate at Case Western Reserve Un...</td>\n",
       "      <td>2020-09-29</td>\n",
       "      <td>Former Vice President Joe Biden (D) and Presid...</td>\n",
       "      <td>Chris Wallace (Fox News)</td>\n",
       "      <td>BIDEN</td>\n",
       "      <td>He has no idea what he’s talking about. Here’s...</td>\n",
       "    </tr>\n",
       "    <tr>\n",
       "      <th>251</th>\n",
       "      <td>September 29, 2020 Debate Transcript</td>\n",
       "      <td>Presidential Debate at Case Western Reserve Un...</td>\n",
       "      <td>2020-09-29</td>\n",
       "      <td>Former Vice President Joe Biden (D) and Presid...</td>\n",
       "      <td>Chris Wallace (Fox News)</td>\n",
       "      <td>TRUMP</td>\n",
       "      <td>I want to see an honest ballot count. . .</td>\n",
       "    </tr>\n",
       "  </tbody>\n",
       "</table>\n",
       "<p>252 rows × 7 columns</p>\n",
       "</div>"
      ],
      "text/plain": [
       "                                    Title  \\\n",
       "0    September 29, 2020 Debate Transcript   \n",
       "1    September 29, 2020 Debate Transcript   \n",
       "2    September 29, 2020 Debate Transcript   \n",
       "3    September 29, 2020 Debate Transcript   \n",
       "4    September 29, 2020 Debate Transcript   \n",
       "..                                    ...   \n",
       "247  September 29, 2020 Debate Transcript   \n",
       "248  September 29, 2020 Debate Transcript   \n",
       "249  September 29, 2020 Debate Transcript   \n",
       "250  September 29, 2020 Debate Transcript   \n",
       "251  September 29, 2020 Debate Transcript   \n",
       "\n",
       "                                                Debate       Date  \\\n",
       "0    Presidential Debate at Case Western Reserve Un... 2020-09-29   \n",
       "1    Presidential Debate at Case Western Reserve Un... 2020-09-29   \n",
       "2    Presidential Debate at Case Western Reserve Un... 2020-09-29   \n",
       "3    Presidential Debate at Case Western Reserve Un... 2020-09-29   \n",
       "4    Presidential Debate at Case Western Reserve Un... 2020-09-29   \n",
       "..                                                 ...        ...   \n",
       "247  Presidential Debate at Case Western Reserve Un... 2020-09-29   \n",
       "248  Presidential Debate at Case Western Reserve Un... 2020-09-29   \n",
       "249  Presidential Debate at Case Western Reserve Un... 2020-09-29   \n",
       "250  Presidential Debate at Case Western Reserve Un... 2020-09-29   \n",
       "251  Presidential Debate at Case Western Reserve Un... 2020-09-29   \n",
       "\n",
       "                                          Participants  \\\n",
       "0    Former Vice President Joe Biden (D) and Presid...   \n",
       "1    Former Vice President Joe Biden (D) and Presid...   \n",
       "2    Former Vice President Joe Biden (D) and Presid...   \n",
       "3    Former Vice President Joe Biden (D) and Presid...   \n",
       "4    Former Vice President Joe Biden (D) and Presid...   \n",
       "..                                                 ...   \n",
       "247  Former Vice President Joe Biden (D) and Presid...   \n",
       "248  Former Vice President Joe Biden (D) and Presid...   \n",
       "249  Former Vice President Joe Biden (D) and Presid...   \n",
       "250  Former Vice President Joe Biden (D) and Presid...   \n",
       "251  Former Vice President Joe Biden (D) and Presid...   \n",
       "\n",
       "                   Moderators Speaker  \\\n",
       "0    Chris Wallace (Fox News)   TRUMP   \n",
       "1    Chris Wallace (Fox News)   BIDEN   \n",
       "2    Chris Wallace (Fox News)   BIDEN   \n",
       "3    Chris Wallace (Fox News)   TRUMP   \n",
       "4    Chris Wallace (Fox News)   TRUMP   \n",
       "..                        ...     ...   \n",
       "247  Chris Wallace (Fox News)   BIDEN   \n",
       "248  Chris Wallace (Fox News)   TRUMP   \n",
       "249  Chris Wallace (Fox News)   TRUMP   \n",
       "250  Chris Wallace (Fox News)   BIDEN   \n",
       "251  Chris Wallace (Fox News)   TRUMP   \n",
       "\n",
       "                                                  Text  \n",
       "0    Thank you very much, Chris. I will tell you ve...  \n",
       "1    Well, first of all, thank you for doing this a...  \n",
       "2    The American people have a right to have a say...  \n",
       "3    There aren’t a hundred million people with pre...  \n",
       "4    During that period of time, during that period...  \n",
       "..                                                 ...  \n",
       "247  Yes. And here’s the deal. We count the ballots...  \n",
       "248  It’s already been established. Take a look at ...  \n",
       "249  Look at Carolyn Maloney’s race. They have no i...  \n",
       "250  He has no idea what he’s talking about. Here’s...  \n",
       "251          I want to see an honest ballot count. . .  \n",
       "\n",
       "[252 rows x 7 columns]"
      ]
     },
     "execution_count": 6,
     "metadata": {},
     "output_type": "execute_result"
    }
   ],
   "source": [
    "df"
   ]
  },
  {
   "cell_type": "markdown",
   "id": "5cb7371b-1563-424f-add4-e4fef02ec66b",
   "metadata": {},
   "source": [
    "## Exporting to a file"
   ]
  },
  {
   "cell_type": "markdown",
   "id": "7ae04c2b-171a-4802-ba70-2fbde56bca7c",
   "metadata": {},
   "source": [
    "### `JSONL` format"
   ]
  },
  {
   "cell_type": "code",
   "execution_count": 7,
   "id": "f944f46d-4e65-4201-90c4-ce813ea9f2a6",
   "metadata": {},
   "outputs": [],
   "source": [
    "df.to_json('debate.jsonl', orient='records', lines=True)"
   ]
  },
  {
   "cell_type": "markdown",
   "id": "24cf7288-962c-4b33-8d2b-a9acaa181318",
   "metadata": {},
   "source": [
    "### `TSV` format"
   ]
  },
  {
   "cell_type": "code",
   "execution_count": 8,
   "id": "467de6da-88cd-4ad2-8435-ed78a9cb8a5e",
   "metadata": {},
   "outputs": [],
   "source": [
    "df.to_csv('debate.tsv', sep='\\t', index=False, encoding='utf-8', lineterminator='\\n')"
   ]
  },
  {
   "cell_type": "code",
   "execution_count": null,
   "id": "ab8fd161-7b4c-4863-a2f0-7f71869d603b",
   "metadata": {},
   "outputs": [],
   "source": []
  }
 ],
 "metadata": {
  "kernelspec": {
   "display_name": "Python 3 (ipykernel)",
   "language": "python",
   "name": "python3"
  },
  "language_info": {
   "codemirror_mode": {
    "name": "ipython",
    "version": 3
   },
   "file_extension": ".py",
   "mimetype": "text/x-python",
   "name": "python",
   "nbconvert_exporter": "python",
   "pygments_lexer": "ipython3",
   "version": "3.10.12"
  }
 },
 "nbformat": 4,
 "nbformat_minor": 5
}
