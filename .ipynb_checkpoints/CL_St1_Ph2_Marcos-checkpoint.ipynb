{
 "cells": [
  {
   "cell_type": "markdown",
   "id": "810d9f10-ec19-4b09-8f90-e983e460b319",
   "metadata": {
    "jp-MarkdownHeadingCollapsed": true
   },
   "source": [
    "<center>\n",
    "<img src=\"https://laelgelcpublic.s3.sa-east-1.amazonaws.com/lael_50_years_narrow_white.png.no_years.400px_96dpi.png\" width=\"300\" alt=\"LAEL 50 years logo\">\n",
    "<h3>APPLIED LINGUISTICS GRADUATE PROGRAMME (LAEL)</h3>\n",
    "</center>\n",
    "<hr>"
   ]
  },
  {
   "cell_type": "markdown",
   "id": "888c2c96-2fc3-4a1a-995b-c388036a2a15",
   "metadata": {},
   "source": [
    "# Corpus Linguistics - Study 1 - Phase 2 - Marcos"
   ]
  },
  {
   "cell_type": "markdown",
   "id": "74cee5ab-f310-4287-aa8b-2713f8223e65",
   "metadata": {},
   "source": [
    "This solution reads the text `vuam_test.xml`, in `TEI/XML` format, into a `pandas` DataFrame allowing data wrangling and demonstrates how to export the DataFrame into `JSONL` and `TSV` formats for further processing."
   ]
  },
  {
   "cell_type": "markdown",
   "id": "c694026a-e363-456b-8eb5-74e923a324e4",
   "metadata": {},
   "source": [
    "## What is `TEI/XML`?"
   ]
  },
  {
   "cell_type": "markdown",
   "id": "8c55c5ad-9a83-425c-9f19-1d99ac9bd9fc",
   "metadata": {},
   "source": [
    "The [Text Encoding Initiative](https://tei-c.org/) (TEI) is a consortium which collectively develops and maintains a standard for the representation of texts in digital form especially for the area now known as textual digital humanities.\n",
    "\n",
    "`TEI/XML` can be thought of as a sibling of HTML (they're approximately the same age, depending on how you measure it) which evolved with a focus on defined textual semantics rather than defined display semantics.\n",
    "\n",
    "Among the related software tools available is [Stylesheets](https://github.com/TEIC/Stylesheets), used for converting TEI documents to various formats."
   ]
  },
  {
   "cell_type": "markdown",
   "id": "c1763470-b170-40aa-894f-69bc907d5895",
   "metadata": {},
   "source": [
    "## What is `Beautiful Soup`?"
   ]
  },
  {
   "cell_type": "markdown",
   "id": "84991201-2f06-47c5-8977-a758b51a556d",
   "metadata": {},
   "source": [
    "Beautiful Soup is a Python library for pulling data out of HTML and XML files. It is a well-known library for web scraping.\n",
    "\n",
    "Please refer to:\n",
    "- [Beautiful Soup](https://www.crummy.com/software/BeautifulSoup/)\n",
    "- [Beautiful Soup Documentation](https://www.crummy.com/software/BeautifulSoup/bs4/doc/)\n",
    "- [How To Scrape Web Pages with Beautiful Soup and Python 3](https://www.digitalocean.com/community/tutorials/how-to-scrape-web-pages-with-beautiful-soup-and-python-3)\n",
    "- [A Practical Introduction to Web Scraping in Python](https://realpython.com/python-web-scraping-practical-introduction/)"
   ]
  },
  {
   "cell_type": "markdown",
   "id": "f1acb96e-0335-41e2-a8cb-c9bb8e6c24c0",
   "metadata": {},
   "source": [
    "## Required Python packages"
   ]
  },
  {
   "cell_type": "markdown",
   "id": "d6867f1b-a978-4f5e-b094-2027b15d5e2d",
   "metadata": {},
   "source": [
    "- beautifulsoup4\n",
    "- lxml\n",
    "- pandas"
   ]
  },
  {
   "cell_type": "markdown",
   "id": "0172bd82-68e6-4a31-9288-b7b02194ed5c",
   "metadata": {},
   "source": [
    "## Importing the required libraries"
   ]
  },
  {
   "cell_type": "code",
   "execution_count": 1,
   "id": "70753c13-fa12-4189-bdbd-5e60c97d011e",
   "metadata": {},
   "outputs": [],
   "source": [
    "from bs4 import BeautifulSoup\n",
    "import pandas as pd"
   ]
  },
  {
   "cell_type": "markdown",
   "id": "5c77ab0b-7a98-4c62-8306-0169c0f6a4d4",
   "metadata": {},
   "source": [
    "## Importing `vuam_test.xml` into a DataFrame"
   ]
  },
  {
   "cell_type": "code",
   "execution_count": 2,
   "id": "c62419e7-7890-4e7c-bc38-c3b5cd025596",
   "metadata": {},
   "outputs": [],
   "source": [
    "# Parsing the document\n",
    "with open('vuam_test.xml', 'r', encoding='utf8', newline='\\n') as xml_doc:\n",
    "    soup = BeautifulSoup(xml_doc, 'lxml-xml')"
   ]
  },
  {
   "cell_type": "code",
   "execution_count": 3,
   "id": "72fe6992-a462-40ca-9e66-c6e2c2b05341",
   "metadata": {},
   "outputs": [],
   "source": [
    "# Capturing the desired information\n",
    "rows = []\n",
    "for element in soup.find_all(['w', 'c']):\n",
    "    lemma = element.get('lemma', '')\n",
    "    word_type = element.get('type', '')\n",
    "    text = element.text.strip()\n",
    "    seg = element.find('seg')\n",
    "    if seg:\n",
    "        seg_function = seg.get('function', '')\n",
    "        seg_type = seg.get('type', '')\n",
    "        seg_vici_morph = seg.get('vici:morph', '')\n",
    "        seg_text = seg.text.strip()\n",
    "    else:\n",
    "        seg_function = ''\n",
    "        seg_type = ''\n",
    "        seg_vici_morph = ''\n",
    "        seg_text = ''\n",
    "    rows.append([lemma, word_type, text, seg_function, seg_type, seg_vici_morph, seg_text])"
   ]
  },
  {
   "cell_type": "code",
   "execution_count": 4,
   "id": "437d1cfd-9dde-41ee-8479-3921baa9b2c0",
   "metadata": {},
   "outputs": [],
   "source": [
    "# Creating DataFrame\n",
    "df = pd.DataFrame(rows, columns=['lemma', 'type', 'text', 'seg function', 'seg type', 'seg vici:morph', 'seg text'])"
   ]
  },
  {
   "cell_type": "markdown",
   "id": "2d2afa0f-ba20-4d46-8358-f59bca080107",
   "metadata": {},
   "source": [
    "### Checking data types"
   ]
  },
  {
   "cell_type": "code",
   "execution_count": 5,
   "id": "6238e02d-e673-47a9-ac6c-77eae0d97a2f",
   "metadata": {},
   "outputs": [
    {
     "data": {
      "text/plain": [
       "lemma             object\n",
       "type              object\n",
       "text              object\n",
       "seg function      object\n",
       "seg type          object\n",
       "seg vici:morph    object\n",
       "seg text          object\n",
       "dtype: object"
      ]
     },
     "execution_count": 5,
     "metadata": {},
     "output_type": "execute_result"
    }
   ],
   "source": [
    "df.dtypes"
   ]
  },
  {
   "cell_type": "markdown",
   "id": "5b2ec600-0d95-42ab-a186-42a3822f000d",
   "metadata": {},
   "source": [
    "### Displaying the DataFrame"
   ]
  },
  {
   "cell_type": "code",
   "execution_count": 6,
   "id": "14f9f988-517e-4d2b-a9e0-0404028a3342",
   "metadata": {},
   "outputs": [
    {
     "data": {
      "text/html": [
       "<div>\n",
       "<style scoped>\n",
       "    .dataframe tbody tr th:only-of-type {\n",
       "        vertical-align: middle;\n",
       "    }\n",
       "\n",
       "    .dataframe tbody tr th {\n",
       "        vertical-align: top;\n",
       "    }\n",
       "\n",
       "    .dataframe thead th {\n",
       "        text-align: right;\n",
       "    }\n",
       "</style>\n",
       "<table border=\"1\" class=\"dataframe\">\n",
       "  <thead>\n",
       "    <tr style=\"text-align: right;\">\n",
       "      <th></th>\n",
       "      <th>lemma</th>\n",
       "      <th>type</th>\n",
       "      <th>text</th>\n",
       "      <th>seg function</th>\n",
       "      <th>seg type</th>\n",
       "      <th>seg vici:morph</th>\n",
       "      <th>seg text</th>\n",
       "    </tr>\n",
       "  </thead>\n",
       "  <tbody>\n",
       "    <tr>\n",
       "      <th>0</th>\n",
       "      <td>late</td>\n",
       "      <td>AJS</td>\n",
       "      <td>Latest</td>\n",
       "      <td></td>\n",
       "      <td></td>\n",
       "      <td></td>\n",
       "      <td></td>\n",
       "    </tr>\n",
       "    <tr>\n",
       "      <th>1</th>\n",
       "      <td>corporate</td>\n",
       "      <td>AJ0</td>\n",
       "      <td>corporate</td>\n",
       "      <td></td>\n",
       "      <td></td>\n",
       "      <td></td>\n",
       "      <td></td>\n",
       "    </tr>\n",
       "    <tr>\n",
       "      <th>2</th>\n",
       "      <td>unbundler</td>\n",
       "      <td>NN1</td>\n",
       "      <td>unbundler</td>\n",
       "      <td></td>\n",
       "      <td></td>\n",
       "      <td></td>\n",
       "      <td></td>\n",
       "    </tr>\n",
       "    <tr>\n",
       "      <th>3</th>\n",
       "      <td>reveal</td>\n",
       "      <td>VVZ</td>\n",
       "      <td>reveals</td>\n",
       "      <td>mrw</td>\n",
       "      <td>met</td>\n",
       "      <td>n</td>\n",
       "      <td>reveals</td>\n",
       "    </tr>\n",
       "    <tr>\n",
       "      <th>4</th>\n",
       "      <td>laid-back</td>\n",
       "      <td>AJ0</td>\n",
       "      <td>laid-back</td>\n",
       "      <td></td>\n",
       "      <td></td>\n",
       "      <td></td>\n",
       "      <td></td>\n",
       "    </tr>\n",
       "    <tr>\n",
       "      <th>...</th>\n",
       "      <td>...</td>\n",
       "      <td>...</td>\n",
       "      <td>...</td>\n",
       "      <td>...</td>\n",
       "      <td>...</td>\n",
       "      <td>...</td>\n",
       "      <td>...</td>\n",
       "    </tr>\n",
       "    <tr>\n",
       "      <th>238270</th>\n",
       "      <td>be</td>\n",
       "      <td>VBB</td>\n",
       "      <td>'re</td>\n",
       "      <td></td>\n",
       "      <td></td>\n",
       "      <td></td>\n",
       "      <td></td>\n",
       "    </tr>\n",
       "    <tr>\n",
       "      <th>238271</th>\n",
       "      <td>here</td>\n",
       "      <td>AV0</td>\n",
       "      <td>here</td>\n",
       "      <td></td>\n",
       "      <td></td>\n",
       "      <td></td>\n",
       "      <td></td>\n",
       "    </tr>\n",
       "    <tr>\n",
       "      <th>238272</th>\n",
       "      <td>that</td>\n",
       "      <td>DT0-CJT</td>\n",
       "      <td>that</td>\n",
       "      <td>mrw</td>\n",
       "      <td>met</td>\n",
       "      <td>n</td>\n",
       "      <td>that</td>\n",
       "    </tr>\n",
       "    <tr>\n",
       "      <th>238273</th>\n",
       "      <td>be</td>\n",
       "      <td>VBZ</td>\n",
       "      <td>'s</td>\n",
       "      <td></td>\n",
       "      <td></td>\n",
       "      <td></td>\n",
       "      <td></td>\n",
       "    </tr>\n",
       "    <tr>\n",
       "      <th>238274</th>\n",
       "      <td>all right</td>\n",
       "      <td>AJ0</td>\n",
       "      <td>all right</td>\n",
       "      <td></td>\n",
       "      <td></td>\n",
       "      <td></td>\n",
       "      <td></td>\n",
       "    </tr>\n",
       "  </tbody>\n",
       "</table>\n",
       "<p>238275 rows × 7 columns</p>\n",
       "</div>"
      ],
      "text/plain": [
       "            lemma     type       text seg function seg type seg vici:morph  \\\n",
       "0            late      AJS     Latest                                        \n",
       "1       corporate      AJ0  corporate                                        \n",
       "2       unbundler      NN1  unbundler                                        \n",
       "3          reveal      VVZ    reveals          mrw      met              n   \n",
       "4       laid-back      AJ0  laid-back                                        \n",
       "...           ...      ...        ...          ...      ...            ...   \n",
       "238270         be      VBB        're                                        \n",
       "238271       here      AV0       here                                        \n",
       "238272       that  DT0-CJT       that          mrw      met              n   \n",
       "238273         be      VBZ         's                                        \n",
       "238274  all right      AJ0  all right                                        \n",
       "\n",
       "       seg text  \n",
       "0                \n",
       "1                \n",
       "2                \n",
       "3       reveals  \n",
       "4                \n",
       "...         ...  \n",
       "238270           \n",
       "238271           \n",
       "238272     that  \n",
       "238273           \n",
       "238274           \n",
       "\n",
       "[238275 rows x 7 columns]"
      ]
     },
     "execution_count": 6,
     "metadata": {},
     "output_type": "execute_result"
    }
   ],
   "source": [
    "df"
   ]
  },
  {
   "cell_type": "markdown",
   "id": "5cb7371b-1563-424f-add4-e4fef02ec66b",
   "metadata": {},
   "source": [
    "## Exporting to a file"
   ]
  },
  {
   "cell_type": "markdown",
   "id": "7ae04c2b-171a-4802-ba70-2fbde56bca7c",
   "metadata": {},
   "source": [
    "### `JSONL` format"
   ]
  },
  {
   "cell_type": "code",
   "execution_count": 7,
   "id": "f944f46d-4e65-4201-90c4-ce813ea9f2a6",
   "metadata": {},
   "outputs": [],
   "source": [
    "df.to_json('vuam_test.jsonl', orient='records', lines=True)"
   ]
  },
  {
   "cell_type": "markdown",
   "id": "24cf7288-962c-4b33-8d2b-a9acaa181318",
   "metadata": {},
   "source": [
    "### `TSV` format"
   ]
  },
  {
   "cell_type": "code",
   "execution_count": 8,
   "id": "467de6da-88cd-4ad2-8435-ed78a9cb8a5e",
   "metadata": {},
   "outputs": [],
   "source": [
    "df.to_csv('vuam_test.tsv', sep='\\t', index=False, encoding='utf-8', lineterminator='\\n')"
   ]
  },
  {
   "cell_type": "markdown",
   "id": "c03db778-5d8e-4202-b6fc-af2b6127171f",
   "metadata": {},
   "source": [
    "## Appendices"
   ]
  },
  {
   "cell_type": "markdown",
   "id": "8f6d09ca-7deb-43bb-a056-8c0f7c3e3706",
   "metadata": {},
   "source": [
    "### Running the solution from the command line"
   ]
  },
  {
   "cell_type": "markdown",
   "id": "41b9f839-4b0b-41ea-bf50-64d753a79cf9",
   "metadata": {},
   "source": [
    "It is recommended to set up a specific Python virtual environment for each Python project."
   ]
  },
  {
   "cell_type": "markdown",
   "id": "791e8ad7-4f3c-474d-a6b5-8e8243082e44",
   "metadata": {},
   "source": [
    "#### Setting up the `myenv` virtual environment"
   ]
  },
  {
   "cell_type": "markdown",
   "id": "f2e9e305-42e9-405f-8d75-802a87b778cb",
   "metadata": {},
   "source": [
    "```\n",
    "eyamrog@Rog-ASUS:~$ cd \"$HOME\"\n",
    "eyamrog@Rog-ASUS:~$ sudo apt update && sudo apt upgrade -y\n",
    "<omitted>\n",
    "eyamrog@Rog-ASUS:~$ sudo apt install -y python3-pip python3-venv\n",
    "[sudo] password for eyamrog: \n",
    "<omitted>\n",
    "eyamrog@Rog-ASUS:~$ python3 -m venv myenv\n",
    "eyamrog@Rog-ASUS:~$ ll\n",
    "total 148\n",
    "drwxr-x--- 16 eyamrog eyamrog  4096 Aug 27 12:15 ./\n",
    "drwxr-xr-x  3 root    root     4096 Mar 31 22:09 ../\n",
    "<omitted>\n",
    "drwxr-xr-x  5 eyamrog eyamrog  4096 Aug 27 12:15 myenv/\n",
    "<omitted>\n",
    "```"
   ]
  },
  {
   "cell_type": "markdown",
   "id": "63747bd6-0b55-4660-b583-09f0d7fe4509",
   "metadata": {},
   "source": [
    "#### Activating the `myenv` virtual environment and checking the installed packages"
   ]
  },
  {
   "cell_type": "markdown",
   "id": "16604487-fc30-4215-a085-c8883265ff4d",
   "metadata": {},
   "source": [
    "```\n",
    "eyamrog@Rog-ASUS:~$ source \"$HOME\"/myenv/bin/activate\n",
    "(myenv) eyamrog@Rog-ASUS:~$ pip freeze\n",
    "```"
   ]
  },
  {
   "cell_type": "markdown",
   "id": "16bb077f-6e51-4eea-afc2-6515750e3583",
   "metadata": {},
   "source": [
    "#### Installing the required Python packages"
   ]
  },
  {
   "cell_type": "markdown",
   "id": "d9dc7b93-802b-4305-8845-85e552ec50ee",
   "metadata": {},
   "source": [
    "```\n",
    "(myenv) eyamrog@Rog-ASUS:~/work/cl_st1_marcos$ pip install beautifulsoup4 lxml pandas\n",
    "Collecting beautifulsoup4\n",
    "  Using cached beautifulsoup4-4.12.3-py3-none-any.whl (147 kB)\n",
    "Collecting lxml\n",
    "  Using cached lxml-5.3.0-cp310-cp310-manylinux_2_28_x86_64.whl (5.0 MB)\n",
    "Collecting pandas\n",
    "  Using cached pandas-2.2.2-cp310-cp310-manylinux_2_17_x86_64.manylinux2014_x86_64.whl (13.0 MB)\n",
    "Collecting soupsieve>1.2\n",
    "  Using cached soupsieve-2.6-py3-none-any.whl (36 kB)\n",
    "Collecting pytz>=2020.1\n",
    "  Using cached pytz-2024.1-py2.py3-none-any.whl (505 kB)\n",
    "Collecting numpy>=1.22.4\n",
    "  Using cached numpy-2.1.0-cp310-cp310-manylinux_2_17_x86_64.manylinux2014_x86_64.whl (16.3 MB)\n",
    "Collecting python-dateutil>=2.8.2\n",
    "  Using cached python_dateutil-2.9.0.post0-py2.py3-none-any.whl (229 kB)\n",
    "Collecting tzdata>=2022.7\n",
    "  Using cached tzdata-2024.1-py2.py3-none-any.whl (345 kB)\n",
    "Collecting six>=1.5\n",
    "  Using cached six-1.16.0-py2.py3-none-any.whl (11 kB)\n",
    "Installing collected packages: pytz, tzdata, soupsieve, six, numpy, lxml, python-dateutil, beautifulsoup4, pandas\n",
    "Successfully installed beautifulsoup4-4.12.3 lxml-5.3.0 numpy-2.1.0 pandas-2.2.2 python-dateutil-2.9.0.post0 pytz-2024.1 six-1.16.0 soupsieve-2.6 tzdata-2024.1\n",
    "(myenv) eyamrog@Rog-ASUS:~/work/cl_st1_marcos$ pip freeze\n",
    "beautifulsoup4==4.12.3\n",
    "lxml==5.3.0\n",
    "numpy==2.1.0\n",
    "pandas==2.2.2\n",
    "python-dateutil==2.9.0.post0\n",
    "pytz==2024.1\n",
    "six==1.16.0\n",
    "soupsieve==2.6\n",
    "tzdata==2024.1\n",
    "(myenv) eyamrog@Rog-ASUS:~/work/cl_st1_marcos$ \n",
    "```"
   ]
  },
  {
   "cell_type": "markdown",
   "id": "64bf87f9-e29c-4c56-aa54-4401fa05a245",
   "metadata": {},
   "source": [
    "#### Installing and running the solution"
   ]
  },
  {
   "cell_type": "markdown",
   "id": "1ed6a966-5502-4bd5-9e8f-cef0cb506721",
   "metadata": {},
   "source": [
    "```\n",
    "(myenv) eyamrog@Rog-ASUS:~$ mkdir work\n",
    "(myenv) eyamrog@Rog-ASUS:~$ cd work\n",
    "(myenv) eyamrog@Rog-ASUS:~/work$ ll\n",
    "total 8\n",
    "drwxr-xr-x  2 eyamrog eyamrog 4096 Aug 27 12:01 ./\n",
    "drwxr-x--- 16 eyamrog eyamrog 4096 Aug 27 12:15 ../\n",
    "(myenv) eyamrog@Rog-ASUS:~/work$ git clone https://github.com/laelgelc/cl_st1_marcos.git\n",
    "Cloning into 'cl_st1_marcos'...\n",
    "remote: Enumerating objects: 11, done.\n",
    "remote: Counting objects: 100% (11/11), done.\n",
    "remote: Compressing objects: 100% (9/9), done.\n",
    "remote: Total 11 (delta 1), reused 8 (delta 1), pack-reused 0 (from 0)\n",
    "Receiving objects: 100% (11/11), 31.27 KiB | 6.25 MiB/s, done.\n",
    "Resolving deltas: 100% (1/1), done.\n",
    "(myenv) eyamrog@Rog-ASUS:~/work$ cd cl_st1_marcos/\n",
    "(myenv) eyamrog@Rog-ASUS:~/work/cl_st1_marcos$ ll\n",
    "total 47088\n",
    "drwxr-xr-x 4 eyamrog eyamrog     4096 Aug 27 19:05 ./\n",
    "drwxr-xr-x 4 eyamrog eyamrog     4096 Aug 27 18:56 ../\n",
    "drwxr-xr-x 8 eyamrog eyamrog     4096 Aug 27 19:07 .git/\n",
    "drwxr-xr-x 2 eyamrog eyamrog     4096 Aug 27 18:56 .ipynb_checkpoints/\n",
    "-rw-r--r-- 1 eyamrog eyamrog    23600 Aug 27 18:56 CL_St1_Ph1_Marcos.ipynb\n",
    "-rw-r--r-- 1 eyamrog eyamrog    21270 Aug 27 19:05 CL_St1_Ph2_Marcos.ipynb\n",
    "-rw-r--r-- 1 eyamrog eyamrog      458 Aug 27 18:56 README.md\n",
    "-rw-r--r-- 1 eyamrog eyamrog      257 Aug 27 18:56 cl_st1_ph1_marcos.py\n",
    "-rw-r--r-- 1 eyamrog eyamrog     1050 Aug 27 18:59 cl_st1_ph2_marcos.py\n",
    "-rw-r--r-- 1 eyamrog eyamrog   175914 Aug 27 18:56 debate.xml\n",
    "-rw-r--r-- 1 eyamrog eyamrog 26535146 Aug 27 19:05 vuam_test.jsonl\n",
    "-rw-r--r-- 1 eyamrog eyamrog  4601087 Aug 27 19:05 vuam_test.tsv\n",
    "-rwxr-xr-x 1 eyamrog eyamrog 16820947 Aug 27 19:04 vuam_test.xml*\n",
    "(myenv) eyamrog@Rog-ASUS:~/work/cl_st1_marcos$ python cl_st1_ph2_marcos.py\n",
    "(myenv) eyamrog@Rog-ASUS:~/work/cl_st1_marcos$ ll\n",
    "total 47088\n",
    "drwxr-xr-x 4 eyamrog eyamrog     4096 Aug 27 19:14 ./\n",
    "drwxr-xr-x 4 eyamrog eyamrog     4096 Aug 27 18:56 ../\n",
    "drwxr-xr-x 8 eyamrog eyamrog     4096 Aug 27 19:07 .git/\n",
    "drwxr-xr-x 2 eyamrog eyamrog     4096 Aug 27 18:56 .ipynb_checkpoints/\n",
    "-rw-r--r-- 1 eyamrog eyamrog    23600 Aug 27 18:56 CL_St1_Ph1_Marcos.ipynb\n",
    "-rw-r--r-- 1 eyamrog eyamrog    21632 Aug 27 19:14 CL_St1_Ph2_Marcos.ipynb\n",
    "-rw-r--r-- 1 eyamrog eyamrog      458 Aug 27 18:56 README.md\n",
    "-rw-r--r-- 1 eyamrog eyamrog      257 Aug 27 18:56 cl_st1_ph1_marcos.py\n",
    "-rw-r--r-- 1 eyamrog eyamrog     1026 Aug 27 19:17 cl_st1_ph2_marcos.py\n",
    "-rw-r--r-- 1 eyamrog eyamrog   175914 Aug 27 18:56 debate.xml\n",
    "-rw-r--r-- 1 eyamrog eyamrog 26535146 Aug 27 19:17 vuam_test.jsonl\n",
    "-rw-r--r-- 1 eyamrog eyamrog  4601087 Aug 27 19:17 vuam_test.tsv\n",
    "-rwxr-xr-x 1 eyamrog eyamrog 16820947 Aug 27 19:04 vuam_test.xml*\n",
    "(myenv) eyamrog@Rog-ASUS:~/work/cl_st1_marcos$ \n",
    "```"
   ]
  },
  {
   "cell_type": "markdown",
   "id": "b9ef819e-b9b4-4067-adc3-4ed1a6fd9e83",
   "metadata": {},
   "source": [
    "#### Deactivating the `myenv` virtual environment"
   ]
  },
  {
   "cell_type": "markdown",
   "id": "f86ce9f0-2480-41dc-b207-71649efdadd9",
   "metadata": {},
   "source": [
    "```\n",
    "(myenv) eyamrog@Rog-ASUS:~/work/cl_st1_marcos$ deactivate\n",
    "eyamrog@Rog-ASUS:~/work/cl_st1_marcos$ \n",
    "```"
   ]
  },
  {
   "cell_type": "markdown",
   "id": "6d1914b4-1f62-49ee-b4d8-19e5491bc48f",
   "metadata": {},
   "source": [
    "#### Removing the `myenv` virtual environment (optional)"
   ]
  },
  {
   "cell_type": "markdown",
   "id": "129cc38c-3969-4310-b7ea-92e33d271fba",
   "metadata": {},
   "source": [
    "If the virtual environment is no longer needed, it can be removed."
   ]
  },
  {
   "cell_type": "markdown",
   "id": "10fda040-a401-4e56-a26a-21feca6d8ad9",
   "metadata": {},
   "source": [
    "```\n",
    "eyamrog@Rog-ASUS:~$ cd \"$HOME\"\n",
    "eyamrog@Rog-ASUS:~$ rm -r myenv\n",
    "eyamrog@Rog-ASUS:~$ \n",
    "```"
   ]
  },
  {
   "cell_type": "code",
   "execution_count": null,
   "id": "5c1bd19a-658f-4303-aca6-03ec093cc2b5",
   "metadata": {},
   "outputs": [],
   "source": []
  }
 ],
 "metadata": {
  "kernelspec": {
   "display_name": "Python 3 (ipykernel)",
   "language": "python",
   "name": "python3"
  },
  "language_info": {
   "codemirror_mode": {
    "name": "ipython",
    "version": 3
   },
   "file_extension": ".py",
   "mimetype": "text/x-python",
   "name": "python",
   "nbconvert_exporter": "python",
   "pygments_lexer": "ipython3",
   "version": "3.10.12"
  }
 },
 "nbformat": 4,
 "nbformat_minor": 5
}
