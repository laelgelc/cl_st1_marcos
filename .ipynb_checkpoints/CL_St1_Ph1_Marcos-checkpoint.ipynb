{
 "cells": [
  {
   "cell_type": "markdown",
   "id": "810d9f10-ec19-4b09-8f90-e983e460b319",
   "metadata": {
    "jp-MarkdownHeadingCollapsed": true
   },
   "source": [
    "<center>\n",
    "<img src=\"https://laelgelcpublic.s3.sa-east-1.amazonaws.com/lael_50_years_narrow_white.png.no_years.400px_96dpi.png\" width=\"300\" alt=\"LAEL 50 years logo\">\n",
    "<h3>APPLIED LINGUISTICS GRADUATE PROGRAMME (LAEL)</h3>\n",
    "</center>\n",
    "<hr>"
   ]
  },
  {
   "cell_type": "markdown",
   "id": "888c2c96-2fc3-4a1a-995b-c388036a2a15",
   "metadata": {},
   "source": [
    "# Corpus Linguistics - Study 1 - Phase 1 - Marcos"
   ]
  },
  {
   "cell_type": "markdown",
   "id": "74cee5ab-f310-4287-aa8b-2713f8223e65",
   "metadata": {},
   "source": [
    "This solution reads the text `debate.xml`, in `XML` format, into a `pandas` DataFrame allowing data wrangling and demonstrates how to export the DataFrame into `JSONL` and `TSV` formats for further processing."
   ]
  },
  {
   "cell_type": "markdown",
   "id": "f1acb96e-0335-41e2-a8cb-c9bb8e6c24c0",
   "metadata": {},
   "source": [
    "## Required Python packages"
   ]
  },
  {
   "cell_type": "markdown",
   "id": "d6867f1b-a978-4f5e-b094-2027b15d5e2d",
   "metadata": {},
   "source": [
    "- pandas\n",
    "- lxml"
   ]
  },
  {
   "cell_type": "markdown",
   "id": "0172bd82-68e6-4a31-9288-b7b02194ed5c",
   "metadata": {},
   "source": [
    "## Importing the required libraries"
   ]
  },
  {
   "cell_type": "code",
   "execution_count": 1,
   "id": "70753c13-fa12-4189-bdbd-5e60c97d011e",
   "metadata": {},
   "outputs": [],
   "source": [
    "import pandas as pd"
   ]
  },
  {
   "cell_type": "markdown",
   "id": "5c77ab0b-7a98-4c62-8306-0169c0f6a4d4",
   "metadata": {},
   "source": [
    "## Importing `debate.xml` into a DataFrame"
   ]
  },
  {
   "cell_type": "code",
   "execution_count": 2,
   "id": "15495ba6-090e-417c-8c32-58285a62ccb0",
   "metadata": {},
   "outputs": [],
   "source": [
    "df = pd.read_xml('debate.xml')"
   ]
  },
  {
   "cell_type": "markdown",
   "id": "2d2afa0f-ba20-4d46-8358-f59bca080107",
   "metadata": {},
   "source": [
    "### Checking data types"
   ]
  },
  {
   "cell_type": "code",
   "execution_count": 3,
   "id": "6238e02d-e673-47a9-ac6c-77eae0d97a2f",
   "metadata": {},
   "outputs": [
    {
     "data": {
      "text/plain": [
       "Title           object\n",
       "Debate          object\n",
       "Date            object\n",
       "Participants    object\n",
       "Moderators      object\n",
       "Speaker         object\n",
       "Text            object\n",
       "dtype: object"
      ]
     },
     "execution_count": 3,
     "metadata": {},
     "output_type": "execute_result"
    }
   ],
   "source": [
    "df.dtypes"
   ]
  },
  {
   "cell_type": "markdown",
   "id": "8b822dc9-712c-4a6a-9256-2a2a7eb36cde",
   "metadata": {},
   "source": [
    "### Converting the column `Date` to `datetime64[ns]` format"
   ]
  },
  {
   "cell_type": "code",
   "execution_count": 4,
   "id": "6e31d8bb-1060-4088-adcc-c939030621ba",
   "metadata": {},
   "outputs": [],
   "source": [
    "df['Date'] = pd.to_datetime(df['Date'])"
   ]
  },
  {
   "cell_type": "code",
   "execution_count": 5,
   "id": "a55969bf-a12e-4727-9b35-aff528c0cd9b",
   "metadata": {},
   "outputs": [
    {
     "data": {
      "text/plain": [
       "Title                   object\n",
       "Debate                  object\n",
       "Date            datetime64[ns]\n",
       "Participants            object\n",
       "Moderators              object\n",
       "Speaker                 object\n",
       "Text                    object\n",
       "dtype: object"
      ]
     },
     "execution_count": 5,
     "metadata": {},
     "output_type": "execute_result"
    }
   ],
   "source": [
    "df.dtypes"
   ]
  },
  {
   "cell_type": "markdown",
   "id": "5b2ec600-0d95-42ab-a186-42a3822f000d",
   "metadata": {},
   "source": [
    "### Displaying the DataFrame"
   ]
  },
  {
   "cell_type": "code",
   "execution_count": 6,
   "id": "14f9f988-517e-4d2b-a9e0-0404028a3342",
   "metadata": {},
   "outputs": [
    {
     "data": {
      "text/html": [
       "<div>\n",
       "<style scoped>\n",
       "    .dataframe tbody tr th:only-of-type {\n",
       "        vertical-align: middle;\n",
       "    }\n",
       "\n",
       "    .dataframe tbody tr th {\n",
       "        vertical-align: top;\n",
       "    }\n",
       "\n",
       "    .dataframe thead th {\n",
       "        text-align: right;\n",
       "    }\n",
       "</style>\n",
       "<table border=\"1\" class=\"dataframe\">\n",
       "  <thead>\n",
       "    <tr style=\"text-align: right;\">\n",
       "      <th></th>\n",
       "      <th>Title</th>\n",
       "      <th>Debate</th>\n",
       "      <th>Date</th>\n",
       "      <th>Participants</th>\n",
       "      <th>Moderators</th>\n",
       "      <th>Speaker</th>\n",
       "      <th>Text</th>\n",
       "    </tr>\n",
       "  </thead>\n",
       "  <tbody>\n",
       "    <tr>\n",
       "      <th>0</th>\n",
       "      <td>September 29, 2020 Debate Transcript</td>\n",
       "      <td>Presidential Debate at Case Western Reserve Un...</td>\n",
       "      <td>2020-09-29</td>\n",
       "      <td>Former Vice President Joe Biden (D) and Presid...</td>\n",
       "      <td>Chris Wallace (Fox News)</td>\n",
       "      <td>TRUMP</td>\n",
       "      <td>Thank you very much, Chris. I will tell you ve...</td>\n",
       "    </tr>\n",
       "    <tr>\n",
       "      <th>1</th>\n",
       "      <td>September 29, 2020 Debate Transcript</td>\n",
       "      <td>Presidential Debate at Case Western Reserve Un...</td>\n",
       "      <td>2020-09-29</td>\n",
       "      <td>Former Vice President Joe Biden (D) and Presid...</td>\n",
       "      <td>Chris Wallace (Fox News)</td>\n",
       "      <td>BIDEN</td>\n",
       "      <td>Well, first of all, thank you for doing this a...</td>\n",
       "    </tr>\n",
       "    <tr>\n",
       "      <th>2</th>\n",
       "      <td>September 29, 2020 Debate Transcript</td>\n",
       "      <td>Presidential Debate at Case Western Reserve Un...</td>\n",
       "      <td>2020-09-29</td>\n",
       "      <td>Former Vice President Joe Biden (D) and Presid...</td>\n",
       "      <td>Chris Wallace (Fox News)</td>\n",
       "      <td>BIDEN</td>\n",
       "      <td>The American people have a right to have a say...</td>\n",
       "    </tr>\n",
       "    <tr>\n",
       "      <th>3</th>\n",
       "      <td>September 29, 2020 Debate Transcript</td>\n",
       "      <td>Presidential Debate at Case Western Reserve Un...</td>\n",
       "      <td>2020-09-29</td>\n",
       "      <td>Former Vice President Joe Biden (D) and Presid...</td>\n",
       "      <td>Chris Wallace (Fox News)</td>\n",
       "      <td>TRUMP</td>\n",
       "      <td>There aren’t a hundred million people with pre...</td>\n",
       "    </tr>\n",
       "    <tr>\n",
       "      <th>4</th>\n",
       "      <td>September 29, 2020 Debate Transcript</td>\n",
       "      <td>Presidential Debate at Case Western Reserve Un...</td>\n",
       "      <td>2020-09-29</td>\n",
       "      <td>Former Vice President Joe Biden (D) and Presid...</td>\n",
       "      <td>Chris Wallace (Fox News)</td>\n",
       "      <td>TRUMP</td>\n",
       "      <td>During that period of time, during that period...</td>\n",
       "    </tr>\n",
       "    <tr>\n",
       "      <th>...</th>\n",
       "      <td>...</td>\n",
       "      <td>...</td>\n",
       "      <td>...</td>\n",
       "      <td>...</td>\n",
       "      <td>...</td>\n",
       "      <td>...</td>\n",
       "      <td>...</td>\n",
       "    </tr>\n",
       "    <tr>\n",
       "      <th>247</th>\n",
       "      <td>September 29, 2020 Debate Transcript</td>\n",
       "      <td>Presidential Debate at Case Western Reserve Un...</td>\n",
       "      <td>2020-09-29</td>\n",
       "      <td>Former Vice President Joe Biden (D) and Presid...</td>\n",
       "      <td>Chris Wallace (Fox News)</td>\n",
       "      <td>BIDEN</td>\n",
       "      <td>Yes. And here’s the deal. We count the ballots...</td>\n",
       "    </tr>\n",
       "    <tr>\n",
       "      <th>248</th>\n",
       "      <td>September 29, 2020 Debate Transcript</td>\n",
       "      <td>Presidential Debate at Case Western Reserve Un...</td>\n",
       "      <td>2020-09-29</td>\n",
       "      <td>Former Vice President Joe Biden (D) and Presid...</td>\n",
       "      <td>Chris Wallace (Fox News)</td>\n",
       "      <td>TRUMP</td>\n",
       "      <td>It’s already been established. Take a look at ...</td>\n",
       "    </tr>\n",
       "    <tr>\n",
       "      <th>249</th>\n",
       "      <td>September 29, 2020 Debate Transcript</td>\n",
       "      <td>Presidential Debate at Case Western Reserve Un...</td>\n",
       "      <td>2020-09-29</td>\n",
       "      <td>Former Vice President Joe Biden (D) and Presid...</td>\n",
       "      <td>Chris Wallace (Fox News)</td>\n",
       "      <td>TRUMP</td>\n",
       "      <td>Look at Carolyn Maloney’s race. They have no i...</td>\n",
       "    </tr>\n",
       "    <tr>\n",
       "      <th>250</th>\n",
       "      <td>September 29, 2020 Debate Transcript</td>\n",
       "      <td>Presidential Debate at Case Western Reserve Un...</td>\n",
       "      <td>2020-09-29</td>\n",
       "      <td>Former Vice President Joe Biden (D) and Presid...</td>\n",
       "      <td>Chris Wallace (Fox News)</td>\n",
       "      <td>BIDEN</td>\n",
       "      <td>He has no idea what he’s talking about. Here’s...</td>\n",
       "    </tr>\n",
       "    <tr>\n",
       "      <th>251</th>\n",
       "      <td>September 29, 2020 Debate Transcript</td>\n",
       "      <td>Presidential Debate at Case Western Reserve Un...</td>\n",
       "      <td>2020-09-29</td>\n",
       "      <td>Former Vice President Joe Biden (D) and Presid...</td>\n",
       "      <td>Chris Wallace (Fox News)</td>\n",
       "      <td>TRUMP</td>\n",
       "      <td>I want to see an honest ballot count. . .</td>\n",
       "    </tr>\n",
       "  </tbody>\n",
       "</table>\n",
       "<p>252 rows × 7 columns</p>\n",
       "</div>"
      ],
      "text/plain": [
       "                                    Title  \\\n",
       "0    September 29, 2020 Debate Transcript   \n",
       "1    September 29, 2020 Debate Transcript   \n",
       "2    September 29, 2020 Debate Transcript   \n",
       "3    September 29, 2020 Debate Transcript   \n",
       "4    September 29, 2020 Debate Transcript   \n",
       "..                                    ...   \n",
       "247  September 29, 2020 Debate Transcript   \n",
       "248  September 29, 2020 Debate Transcript   \n",
       "249  September 29, 2020 Debate Transcript   \n",
       "250  September 29, 2020 Debate Transcript   \n",
       "251  September 29, 2020 Debate Transcript   \n",
       "\n",
       "                                                Debate       Date  \\\n",
       "0    Presidential Debate at Case Western Reserve Un... 2020-09-29   \n",
       "1    Presidential Debate at Case Western Reserve Un... 2020-09-29   \n",
       "2    Presidential Debate at Case Western Reserve Un... 2020-09-29   \n",
       "3    Presidential Debate at Case Western Reserve Un... 2020-09-29   \n",
       "4    Presidential Debate at Case Western Reserve Un... 2020-09-29   \n",
       "..                                                 ...        ...   \n",
       "247  Presidential Debate at Case Western Reserve Un... 2020-09-29   \n",
       "248  Presidential Debate at Case Western Reserve Un... 2020-09-29   \n",
       "249  Presidential Debate at Case Western Reserve Un... 2020-09-29   \n",
       "250  Presidential Debate at Case Western Reserve Un... 2020-09-29   \n",
       "251  Presidential Debate at Case Western Reserve Un... 2020-09-29   \n",
       "\n",
       "                                          Participants  \\\n",
       "0    Former Vice President Joe Biden (D) and Presid...   \n",
       "1    Former Vice President Joe Biden (D) and Presid...   \n",
       "2    Former Vice President Joe Biden (D) and Presid...   \n",
       "3    Former Vice President Joe Biden (D) and Presid...   \n",
       "4    Former Vice President Joe Biden (D) and Presid...   \n",
       "..                                                 ...   \n",
       "247  Former Vice President Joe Biden (D) and Presid...   \n",
       "248  Former Vice President Joe Biden (D) and Presid...   \n",
       "249  Former Vice President Joe Biden (D) and Presid...   \n",
       "250  Former Vice President Joe Biden (D) and Presid...   \n",
       "251  Former Vice President Joe Biden (D) and Presid...   \n",
       "\n",
       "                   Moderators Speaker  \\\n",
       "0    Chris Wallace (Fox News)   TRUMP   \n",
       "1    Chris Wallace (Fox News)   BIDEN   \n",
       "2    Chris Wallace (Fox News)   BIDEN   \n",
       "3    Chris Wallace (Fox News)   TRUMP   \n",
       "4    Chris Wallace (Fox News)   TRUMP   \n",
       "..                        ...     ...   \n",
       "247  Chris Wallace (Fox News)   BIDEN   \n",
       "248  Chris Wallace (Fox News)   TRUMP   \n",
       "249  Chris Wallace (Fox News)   TRUMP   \n",
       "250  Chris Wallace (Fox News)   BIDEN   \n",
       "251  Chris Wallace (Fox News)   TRUMP   \n",
       "\n",
       "                                                  Text  \n",
       "0    Thank you very much, Chris. I will tell you ve...  \n",
       "1    Well, first of all, thank you for doing this a...  \n",
       "2    The American people have a right to have a say...  \n",
       "3    There aren’t a hundred million people with pre...  \n",
       "4    During that period of time, during that period...  \n",
       "..                                                 ...  \n",
       "247  Yes. And here’s the deal. We count the ballots...  \n",
       "248  It’s already been established. Take a look at ...  \n",
       "249  Look at Carolyn Maloney’s race. They have no i...  \n",
       "250  He has no idea what he’s talking about. Here’s...  \n",
       "251          I want to see an honest ballot count. . .  \n",
       "\n",
       "[252 rows x 7 columns]"
      ]
     },
     "execution_count": 6,
     "metadata": {},
     "output_type": "execute_result"
    }
   ],
   "source": [
    "df"
   ]
  },
  {
   "cell_type": "markdown",
   "id": "5cb7371b-1563-424f-add4-e4fef02ec66b",
   "metadata": {},
   "source": [
    "## Exporting to a file"
   ]
  },
  {
   "cell_type": "markdown",
   "id": "7ae04c2b-171a-4802-ba70-2fbde56bca7c",
   "metadata": {},
   "source": [
    "### `JSONL` format"
   ]
  },
  {
   "cell_type": "code",
   "execution_count": 7,
   "id": "f944f46d-4e65-4201-90c4-ce813ea9f2a6",
   "metadata": {},
   "outputs": [],
   "source": [
    "df.to_json('debate.jsonl', orient='records', lines=True)"
   ]
  },
  {
   "cell_type": "markdown",
   "id": "24cf7288-962c-4b33-8d2b-a9acaa181318",
   "metadata": {},
   "source": [
    "### `TSV` format"
   ]
  },
  {
   "cell_type": "code",
   "execution_count": 8,
   "id": "467de6da-88cd-4ad2-8435-ed78a9cb8a5e",
   "metadata": {},
   "outputs": [],
   "source": [
    "df.to_csv('debate.tsv', sep='\\t', index=False, encoding='utf-8', lineterminator='\\n')"
   ]
  },
  {
   "cell_type": "markdown",
   "id": "c03db778-5d8e-4202-b6fc-af2b6127171f",
   "metadata": {},
   "source": [
    "## Appendices"
   ]
  },
  {
   "cell_type": "markdown",
   "id": "8f6d09ca-7deb-43bb-a056-8c0f7c3e3706",
   "metadata": {},
   "source": [
    "### Running the solution from the command line"
   ]
  },
  {
   "cell_type": "markdown",
   "id": "41b9f839-4b0b-41ea-bf50-64d753a79cf9",
   "metadata": {},
   "source": [
    "It is recommended to set up a specific Python virtual environment for each Python project."
   ]
  },
  {
   "cell_type": "markdown",
   "id": "791e8ad7-4f3c-474d-a6b5-8e8243082e44",
   "metadata": {},
   "source": [
    "#### Setting up the `myenv` virtual environment"
   ]
  },
  {
   "cell_type": "markdown",
   "id": "f2e9e305-42e9-405f-8d75-802a87b778cb",
   "metadata": {},
   "source": [
    "```\n",
    "eyamrog@Rog-ASUS:~$ cd \"$HOME\"\n",
    "eyamrog@Rog-ASUS:~$ sudo apt update && sudo apt upgrade -y\n",
    "<omitted>\n",
    "eyamrog@Rog-ASUS:~$ sudo apt install -y python3-pip python3-venv\n",
    "[sudo] password for eyamrog: \n",
    "<omitted>\n",
    "eyamrog@Rog-ASUS:~$ python3 -m venv myenv\n",
    "eyamrog@Rog-ASUS:~$ ll\n",
    "total 148\n",
    "drwxr-x--- 16 eyamrog eyamrog  4096 Aug 27 12:15 ./\n",
    "drwxr-xr-x  3 root    root     4096 Mar 31 22:09 ../\n",
    "<omitted>\n",
    "drwxr-xr-x  5 eyamrog eyamrog  4096 Aug 27 12:15 myenv/\n",
    "<omitted>\n",
    "```"
   ]
  },
  {
   "cell_type": "markdown",
   "id": "63747bd6-0b55-4660-b583-09f0d7fe4509",
   "metadata": {},
   "source": [
    "#### Activating the `myenv` virtual environment and checking the installed packages"
   ]
  },
  {
   "cell_type": "markdown",
   "id": "16604487-fc30-4215-a085-c8883265ff4d",
   "metadata": {},
   "source": [
    "```\n",
    "eyamrog@Rog-ASUS:~$ source \"$HOME\"/myenv/bin/activate\n",
    "(myenv) eyamrog@Rog-ASUS:~$ pip freeze\n",
    "```"
   ]
  },
  {
   "cell_type": "markdown",
   "id": "16bb077f-6e51-4eea-afc2-6515750e3583",
   "metadata": {},
   "source": [
    "#### Installing the required Python packages"
   ]
  },
  {
   "cell_type": "markdown",
   "id": "d9dc7b93-802b-4305-8845-85e552ec50ee",
   "metadata": {},
   "source": [
    "```\n",
    "(myenv) eyamrog@Rog-ASUS:~$ pip install pandas lxml\n",
    "Collecting pandas\n",
    "  Using cached pandas-2.2.2-cp310-cp310-manylinux_2_17_x86_64.manylinux2014_x86_64.whl (13.0 MB)\n",
    "Collecting tzdata>=2022.7\n",
    "  Using cached tzdata-2024.1-py2.py3-none-any.whl (345 kB)\n",
    "Collecting pytz>=2020.1\n",
    "  Using cached pytz-2024.1-py2.py3-none-any.whl (505 kB)\n",
    "Collecting python-dateutil>=2.8.2\n",
    "  Using cached python_dateutil-2.9.0.post0-py2.py3-none-any.whl (229 kB)\n",
    "Collecting numpy>=1.22.4\n",
    "  Using cached numpy-2.1.0-cp310-cp310-manylinux_2_17_x86_64.manylinux2014_x86_64.whl (16.3 MB)\n",
    "Collecting six>=1.5\n",
    "  Using cached six-1.16.0-py2.py3-none-any.whl (11 kB)\n",
    "Installing collected packages: pytz, tzdata, six, numpy, python-dateutil, pandas\n",
    "Successfully installed numpy-2.1.0 pandas-2.2.2 python-dateutil-2.9.0.post0 pytz-2024.1 six-1.16.0 tzdata-2024.1\n",
    "Collecting lxml\n",
    "  Using cached lxml-5.3.0-cp310-cp310-manylinux_2_28_x86_64.whl (5.0 MB)\n",
    "Installing collected packages: lxml\n",
    "Successfully installed lxml-5.3.0\n",
    "(myenv) eyamrog@Rog-ASUS:~$ pip freeze\n",
    "lxml==5.3.0\n",
    "numpy==2.1.0\n",
    "pandas==2.2.2\n",
    "python-dateutil==2.9.0.post0\n",
    "pytz==2024.1\n",
    "six==1.16.0\n",
    "tzdata==2024.1\n",
    "```"
   ]
  },
  {
   "cell_type": "markdown",
   "id": "64bf87f9-e29c-4c56-aa54-4401fa05a245",
   "metadata": {},
   "source": [
    "#### Installing and running the solution"
   ]
  },
  {
   "cell_type": "markdown",
   "id": "1ed6a966-5502-4bd5-9e8f-cef0cb506721",
   "metadata": {},
   "source": [
    "```\n",
    "(myenv) eyamrog@Rog-ASUS:~$ mkdir work\n",
    "(myenv) eyamrog@Rog-ASUS:~$ cd work\n",
    "(myenv) eyamrog@Rog-ASUS:~/work$ ll\n",
    "total 8\n",
    "drwxr-xr-x  2 eyamrog eyamrog 4096 Aug 27 12:01 ./\n",
    "drwxr-x--- 16 eyamrog eyamrog 4096 Aug 27 12:15 ../\n",
    "(myenv) eyamrog@Rog-ASUS:~/work$ git clone https://github.com/laelgelc/cl_st1_marcos.git\n",
    "Cloning into 'cl_st1_marcos'...\n",
    "remote: Enumerating objects: 11, done.\n",
    "remote: Counting objects: 100% (11/11), done.\n",
    "remote: Compressing objects: 100% (9/9), done.\n",
    "remote: Total 11 (delta 1), reused 8 (delta 1), pack-reused 0 (from 0)\n",
    "Receiving objects: 100% (11/11), 31.27 KiB | 6.25 MiB/s, done.\n",
    "Resolving deltas: 100% (1/1), done.\n",
    "(myenv) eyamrog@Rog-ASUS:~/work$ cd cl_st1_marcos/\n",
    "(myenv) eyamrog@Rog-ASUS:~/work/cl_st1_marcos$ ll\n",
    "total 212\n",
    "drwxr-xr-x 4 eyamrog eyamrog   4096 Aug 27 12:20 ./\n",
    "drwxr-xr-x 3 eyamrog eyamrog   4096 Aug 27 12:20 ../\n",
    "drwxr-xr-x 8 eyamrog eyamrog   4096 Aug 27 12:20 .git/\n",
    "drwxr-xr-x 2 eyamrog eyamrog   4096 Aug 27 12:20 .ipynb_checkpoints/\n",
    "-rw-r--r-- 1 eyamrog eyamrog  16084 Aug 27 12:20 CL_St1_Marcos.ipynb\n",
    "-rw-r--r-- 1 eyamrog eyamrog     54 Aug 27 12:20 README.md\n",
    "-rw-r--r-- 1 eyamrog eyamrog    257 Aug 27 12:20 cl_st1_marcos.py\n",
    "-rw-r--r-- 1 eyamrog eyamrog 175914 Aug 27 12:20 debate.xml\n",
    "(myenv) eyamrog@Rog-ASUS:~/work/cl_st1_marcos$ python cl_st1_marcos.py\n",
    "(myenv) eyamrog@Rog-ASUS:~/work/cl_st1_marcos$ ll\n",
    "total 492\n",
    "drwxr-xr-x 4 eyamrog eyamrog   4096 Aug 27 12:26 ./\n",
    "drwxr-xr-x 3 eyamrog eyamrog   4096 Aug 27 12:20 ../\n",
    "drwxr-xr-x 8 eyamrog eyamrog   4096 Aug 27 12:20 .git/\n",
    "drwxr-xr-x 2 eyamrog eyamrog   4096 Aug 27 12:20 .ipynb_checkpoints/\n",
    "-rw-r--r-- 1 eyamrog eyamrog  16084 Aug 27 12:20 CL_St1_Marcos.ipynb\n",
    "-rw-r--r-- 1 eyamrog eyamrog     54 Aug 27 12:20 README.md\n",
    "-rw-r--r-- 1 eyamrog eyamrog    257 Aug 27 12:20 cl_st1_marcos.py\n",
    "-rw-r--r-- 1 eyamrog eyamrog 153138 Aug 27 12:26 debate.jsonl\n",
    "-rw-r--r-- 1 eyamrog eyamrog 129291 Aug 27 12:26 debate.tsv\n",
    "-rw-r--r-- 1 eyamrog eyamrog 175914 Aug 27 12:20 debate.xml\n",
    "(myenv) eyamrog@Rog-ASUS:~/work/cl_st1_marcos$ \n",
    "```"
   ]
  },
  {
   "cell_type": "markdown",
   "id": "b9ef819e-b9b4-4067-adc3-4ed1a6fd9e83",
   "metadata": {},
   "source": [
    "#### Deactivating the `myenv` virtual environment"
   ]
  },
  {
   "cell_type": "markdown",
   "id": "f86ce9f0-2480-41dc-b207-71649efdadd9",
   "metadata": {},
   "source": [
    "```\n",
    "(myenv) eyamrog@Rog-ASUS:~/work/cl_st1_marcos$ deactivate\n",
    "eyamrog@Rog-ASUS:~/work/cl_st1_marcos$ \n",
    "```"
   ]
  },
  {
   "cell_type": "markdown",
   "id": "6d1914b4-1f62-49ee-b4d8-19e5491bc48f",
   "metadata": {},
   "source": [
    "#### Removing the `myenv` virtual environment (optional)"
   ]
  },
  {
   "cell_type": "markdown",
   "id": "129cc38c-3969-4310-b7ea-92e33d271fba",
   "metadata": {},
   "source": [
    "If the virtual environment is no longer needed, it can be removed."
   ]
  },
  {
   "cell_type": "markdown",
   "id": "10fda040-a401-4e56-a26a-21feca6d8ad9",
   "metadata": {},
   "source": [
    "```\n",
    "eyamrog@Rog-ASUS:~$ cd \"$HOME\"\n",
    "eyamrog@Rog-ASUS:~$ rm -r myenv\n",
    "eyamrog@Rog-ASUS:~$ \n",
    "```"
   ]
  },
  {
   "cell_type": "code",
   "execution_count": null,
   "id": "5c1bd19a-658f-4303-aca6-03ec093cc2b5",
   "metadata": {},
   "outputs": [],
   "source": []
  }
 ],
 "metadata": {
  "kernelspec": {
   "display_name": "Python 3 (ipykernel)",
   "language": "python",
   "name": "python3"
  },
  "language_info": {
   "codemirror_mode": {
    "name": "ipython",
    "version": 3
   },
   "file_extension": ".py",
   "mimetype": "text/x-python",
   "name": "python",
   "nbconvert_exporter": "python",
   "pygments_lexer": "ipython3",
   "version": "3.10.12"
  }
 },
 "nbformat": 4,
 "nbformat_minor": 5
}
